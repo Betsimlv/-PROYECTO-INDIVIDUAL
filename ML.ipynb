{
 "cells": [
  {
   "cell_type": "markdown",
   "metadata": {},
   "source": [
    "## IMPLEMENTACIÓN DE MODELO DE RECOMENDACIÓN"
   ]
  },
  {
   "cell_type": "markdown",
   "metadata": {},
   "source": [
    "Para este modelo se usa la tecnica BERT (Bidirectional Encoder Representations from Transformers) y la similitud de coseno para obtener 5 sugerencias de peliculas basadas en su similitud con una en específica. "
   ]
  },
  {
   "cell_type": "code",
   "execution_count": 1,
   "metadata": {},
   "outputs": [],
   "source": [
    "#Librerias\n",
    "import numpy as np\n",
    "from sentence_transformers import SentenceTransformer\n",
    "import pandas as pd\n",
    "from sklearn.metrics.pairwise import cosine_similarity\n",
    "import joblib"
   ]
  },
  {
   "cell_type": "code",
   "execution_count": 2,
   "metadata": {},
   "outputs": [],
   "source": [
    "new_data = pd.read_csv(\"../PI_MLOps/FAST_API/new_data.csv\")"
   ]
  },
  {
   "cell_type": "markdown",
   "metadata": {},
   "source": [
    "Se utilizará la columna \"overview\" para la vectorizacion y la similitud de coseno"
   ]
  },
  {
   "cell_type": "code",
   "execution_count": 4,
   "metadata": {},
   "outputs": [],
   "source": [
    "#Se cambia a tipo de dato \"str\" para evitar errores a futuro\n",
    "new_data[\"overview\"] = new_data[\"overview\"].astype(\"str\", errors='raise')"
   ]
  },
  {
   "cell_type": "code",
   "execution_count": 16,
   "metadata": {},
   "outputs": [],
   "source": [
    "#Se convierte en matriz para convertirlos a vectores\n",
    "X = np.array(new_data[\"overview\"])"
   ]
  },
  {
   "cell_type": "code",
   "execution_count": 19,
   "metadata": {},
   "outputs": [
    {
     "name": "stderr",
     "output_type": "stream",
     "text": [
      "Batches: 100%|██████████| 1420/1420 [2:16:30<00:00,  5.77s/it] \n"
     ]
    }
   ],
   "source": [
    "#Aplicar el modelo\n",
    "text_data = X\n",
    "model = SentenceTransformer('distilbert-base-nli-mean-tokens')\n",
    "embeddings = model.encode(text_data, show_progress_bar=True)"
   ]
  },
  {
   "cell_type": "code",
   "execution_count": 21,
   "metadata": {},
   "outputs": [],
   "source": [
    "#Convertirlos a matriz \n",
    "embed_data = embeddings\n",
    "X = np.array(embed_data)"
   ]
  },
  {
   "cell_type": "code",
   "execution_count": null,
   "metadata": {},
   "outputs": [],
   "source": [
    "#Aplicar algoritmo de similitud de coseno\n",
    "cos_sim_data = pd.DataFrame(cosine_similarity(X))"
   ]
  },
  {
   "cell_type": "code",
   "execution_count": 6,
   "metadata": {},
   "outputs": [
    {
     "data": {
      "text/plain": [
       "['cos_sim_data.joblib']"
      ]
     },
     "execution_count": 6,
     "metadata": {},
     "output_type": "execute_result"
    }
   ],
   "source": [
    "#Guardar el modelo para ejecutarlo luego\n",
    "joblib.dump(cos_sim_data, \"cos_sim_data.joblib\")"
   ]
  },
  {
   "cell_type": "code",
   "execution_count": 3,
   "metadata": {},
   "outputs": [],
   "source": [
    "cos_sim_data = joblib.load(\"FAST_API/cos_sim_data.joblib\")"
   ]
  },
  {
   "cell_type": "code",
   "execution_count": 4,
   "metadata": {},
   "outputs": [],
   "source": [
    "#Funcion para obtener la recomendacion \n",
    "def recomendacion(pelicula):\n",
    "  movies = new_data[\"title\"] == pelicula\n",
    "  index = new_data[movies].index[0]\n",
    "  index_recomm =cos_sim_data.loc[index].sort_values(ascending=False).index.tolist()[1:6]\n",
    "  movies_recomm =  new_data['title'].loc[index_recomm].values\n",
    "  return f\"Peliculas recomendadas: {movies_recomm}\""
   ]
  },
  {
   "cell_type": "code",
   "execution_count": 5,
   "metadata": {},
   "outputs": [
    {
     "data": {
      "text/plain": [
       "\"Peliculas recomendadas: ['Thunder and the House of Magic' 'Aliens in the Attic' 'Kooky'\\n 'Ronja Robbersdaughter' 'The Witches']\""
      ]
     },
     "execution_count": 5,
     "metadata": {},
     "output_type": "execute_result"
    }
   ],
   "source": [
    "recomendacion(\"Jumanji\")"
   ]
  },
  {
   "cell_type": "markdown",
   "metadata": {},
   "source": [
    "Aplicamos la funcion a toda la columna de titulos de peliculas para hacer una nueva columna con las recomendaciones. Este nuevo dataset servirá para la ejecución del FastApi"
   ]
  },
  {
   "cell_type": "code",
   "execution_count": 5,
   "metadata": {},
   "outputs": [],
   "source": [
    "\n",
    "new_data['recomendaciones'] = new_data['title'].apply(recomendacion)"
   ]
  },
  {
   "cell_type": "code",
   "execution_count": 6,
   "metadata": {},
   "outputs": [],
   "source": [
    "#Creamos un nuevo dataset\n",
    "new_data.to_csv(\"new_data.csv\")"
   ]
  },
  {
   "cell_type": "code",
   "execution_count": 14,
   "metadata": {},
   "outputs": [
    {
     "data": {
      "text/plain": [
       "\"Peliculas recomendadas: ['Thunder and the House of Magic' 'Aliens in the Attic' 'Kooky'\\n 'Ronja Robbersdaughter' 'The Witches']\""
      ]
     },
     "execution_count": 14,
     "metadata": {},
     "output_type": "execute_result"
    }
   ],
   "source": [
    "new_data[mascara][\"recomendaciones\"].values[0]"
   ]
  },
  {
   "cell_type": "markdown",
   "metadata": {},
   "source": [
    "Con la siguiente funcion se puede observar la similitud que el modelo puede detectar; se ingresa una pelicula sobre \"aliens\" y devuelve peliculas con tramas de nuevos planetas, mundos o extraterrestres. "
   ]
  },
  {
   "cell_type": "code",
   "execution_count": 27,
   "metadata": {},
   "outputs": [],
   "source": [
    "def give_recommendations(pelicula,print_recommendation,print_recommendation_plots):\n",
    "  movies = new_data[\"title\"] == pelicula\n",
    "  index = new_data[movies].index[0]\n",
    "  index_recomm =cos_sim_data.loc[index].sort_values(ascending=False).index.tolist()[1:6]\n",
    "  movies_recomm =  new_data['title'].loc[index_recomm].values\n",
    "  result = {'Movies':movies_recomm,'Index':index_recomm}\n",
    "  if print_recommendation_plots==True:\n",
    "    print('La reseña de la pelicula que se ingreso es:\\n %s \\n'%(new_data['overview'].loc[index]))\n",
    "    k=1\n",
    "    for q in range(len(movies_recomm)):\n",
    "      plot_q = new_data['overview'].loc[index_recomm[q]]\n",
    "      print('La Pelicula %i sugerida es:\\n %s \\n'%(k,plot_q))\n",
    "      k=k+1\n",
    "  return result"
   ]
  },
  {
   "cell_type": "code",
   "execution_count": 28,
   "metadata": {},
   "outputs": [
    {
     "name": "stdout",
     "output_type": "stream",
     "text": [
      "La reseña de la pelicula que se ingreso es:\n",
      " It's summer vacation, but the Pearson family kids are stuck at a boring lake house with their nerdy parents. That is until feisty, little, green aliens crash-land on the roof, with plans to conquer the house AND Earth! Using only their wits, courage and video game-playing skills, the youngsters must band together to defeat the aliens and save the world - but the toughest part might be keeping the whole thing a secret from their parents! Featuring an all-star cast including Ashley Tisdale, Andy Richter, Kevin Nealon, Tim Meadows and Doris Roberts, Aliens In The Attic is the most fun you can have on this planet! \n",
      "\n",
      "La Pelicula 1 sugerida es:\n",
      " Three teenagers are confined to an isolated country estate that could very well be on another planet. The trio spend their days listening to endless homemade tapes that teach them a whole new vocabulary. Any word that comes from beyond their family abode is instantly assigned a new meaning. Hence 'the sea' refers to a large armchair and 'zombies' are little yellow flowers. Having invented a brother whom they claim to have ostracized for his disobedience, the uber-controlling parents terrorize their offspring into submission. \n",
      "\n",
      "La Pelicula 2 sugerida es:\n",
      " 8-year-old Finn who is terrified to learn his family is relocating from sunny California to Maine in the scariest house he has ever seen! Convinced that his new house is haunted, Finn sets up a series of elaborate traps to catch the “ghost” in action. Left home alone with his sister while their parents are stranded across town, Finn’s traps catch a new target – a group of thieves who have targeted Finn’s house. \n",
      "\n",
      "La Pelicula 3 sugerida es:\n",
      " Five children save the life of a dog-like alien while at a self-run summer camp. He attempts to reward them by taking them to an alien colony on the Moon. Events take a turn for the worse when his report on that attack that injured him causes passage from the Moon to the Earth to be banned, and children are stranded in space. The children need to find a way back home before camp ends and their parents discover that they are missing. They also have to avoid the poachers that injured their alien friend, and now seem to be stalking them all. \n",
      "\n",
      "La Pelicula 4 sugerida es:\n",
      " When siblings Judy and Peter discover an enchanted board game that opens the door to a magical world, they unwittingly invite Alan -- an adult who's been trapped inside the game for 26 years -- into their living room. Alan's only hope for freedom is to finish the game, which proves risky as all three find themselves running from giant rhinoceroses, evil monkeys and other terrifying creatures. \n",
      "\n",
      "La Pelicula 5 sugerida es:\n",
      " A traumatized young man abducts Korean leaders, believing they're toxic reptilian aliens - a fifth column launching a takeover of beloved Earth. Stumped law enforcement geniuses half-seriously hire a disgraced, disheveled private detective with a long-ago history of super-crime solving. The alienated South Korean youngster Lee Byeong-gu builds an isolated basement command post/torture chamber/film studio to force the awful truth out of the slimy, uncooperative politicians and businesspeople, then alert the public. Byeong-gu is helped by his devoted girlfriend, who buys his theories, but wonders if his horrible childhood has colored his thinking. \n",
      "\n"
     ]
    },
    {
     "data": {
      "text/plain": [
       "{'Movies': array(['Dogtooth', 'Home Alone: The Holiday Heist',\n",
       "        'Welcome to the Space Show', 'Jumanji', 'Save the Green Planet!'],\n",
       "       dtype=object),\n",
       " 'Index': [15150, 25329, 19978, 1, 9841]}"
      ]
     },
     "execution_count": 28,
     "metadata": {},
     "output_type": "execute_result"
    }
   ],
   "source": [
    "give_recommendations(\"Aliens in the Attic\", True, True)"
   ]
  },
  {
   "cell_type": "code",
   "execution_count": 7,
   "metadata": {},
   "outputs": [
    {
     "data": {
      "text/plain": [
       "\"Peliculas recomendadas: ['Dogtooth' 'Home Alone: The Holiday Heist' 'Welcome to the Space Show'\\n 'Jumanji' 'Save the Green Planet!']\""
      ]
     },
     "execution_count": 7,
     "metadata": {},
     "output_type": "execute_result"
    }
   ],
   "source": [
    "\n",
    "recomendacion(\"Aliens in the Attic\")"
   ]
  }
 ],
 "metadata": {
  "kernelspec": {
   "display_name": "Python 3",
   "language": "python",
   "name": "python3"
  },
  "language_info": {
   "codemirror_mode": {
    "name": "ipython",
    "version": 3
   },
   "file_extension": ".py",
   "mimetype": "text/x-python",
   "name": "python",
   "nbconvert_exporter": "python",
   "pygments_lexer": "ipython3",
   "version": "3.11.4"
  },
  "orig_nbformat": 4
 },
 "nbformat": 4,
 "nbformat_minor": 2
}
